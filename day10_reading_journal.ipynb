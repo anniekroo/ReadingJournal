{
 "cells": [
  {
   "cell_type": "markdown",
   "metadata": {},
   "source": [
    "# Day 10 Reading Journal\n",
    "\n",
    "This journal includes several required exercises, but it is meant to encourage active reading more generally.  You should use the journal to take detailed notes, catalog questions, and explore the content from Think Python deeply.\n",
    "\n",
    "Reading: Review Think Python Chapters 15-17\n",
    "\n",
    "**Due: Thursday, February 23 at 12 noon**\n",
    "\n"
   ]
  },
  {
   "cell_type": "markdown",
   "metadata": {},
   "source": [
    "## [Chapter 15](http://www.greenteapress.com/thinkpython2/html/thinkpython2016.html), [Chapter 16](http://www.greenteapress.com/thinkpython2/html/thinkpython2017.html), [Chapter 17](http://www.greenteapress.com/thinkpython2/html/thinkpython2018.html)\n",
    "\n",
    "\n",
    "By the end of chapter 17, we have all the tools we need to create our own user-defined types known as classes. In this reading journal, we're asking you to review and solidify your understanding of this material so we can build on it for the rest of the course. \n",
    "\n",
    "If you didn't get a chance to fully complete the Day 9 reading journal, you may want to do so now."
   ]
  },
  {
   "cell_type": "markdown",
   "metadata": {
    "problem": "Terminology"
   },
   "source": [
    "### Terminology\n",
    "\n",
    "You should be familiar with the following list of terms and concepts. If any of them are unclear to you, re-read, ask, write a definition in your own words, and try an example if appropriate.\n",
    "\n",
    " - class\n",
    " - object\n",
    " - instance\n",
    " - attribute\n",
    " - method\n",
    " - shallow vs deep copying\n",
    " - pure functions vs modifiers\n",
    " - initializing object instances\n",
    " "
   ]
  },
  {
   "cell_type": "markdown",
   "metadata": {
    "is_question": true,
    "problem": "Exercise 1"
   },
   "source": [
    "### Exercise\n",
    "\n",
    "We're going to take the first steps toward writing a calendar application. To keep things simple, we'll restrict ourselves to a single day for now. Write an `Event` class with the following attributes:\n",
    "\n",
    " - `name`  : Title for the `Event`\n",
    " - `start` : `Time` object representing the start time for the `Event`\n",
    " - `end`   : `Time` object representing the end time for the `Event`\n",
    "\n",
    "You can also augment your `Event` class with additional attributes, such as location and attendees.\n",
    "\n",
    "Write `__init__` and `__str__` methods for your `Event` class."
   ]
  },
  {
   "cell_type": "code",
   "execution_count": 13,
   "metadata": {
    "collapsed": false,
    "solution": "Exercise 1"
   },
   "outputs": [
    {
     "name": "stdout",
     "output_type": "stream",
     "text": [
      "Movie Night : 7:00, 9:20\n"
     ]
    }
   ],
   "source": [
    "class Event:\n",
    "    def __init__ (self, name = None, start = 0, end = 1):\n",
    "        self.name = name\n",
    "        self.start = start\n",
    "        self.end = end\n",
    "    def __str__ (self):\n",
    "        return  '%s : %s, %s' %(self.name, self.start, self.end)\n",
    "event = Event()\n",
    "event.name = 'Movie Night'\n",
    "event.start = '7:00'\n",
    "event.end = '9:20'\n",
    "print(event)"
   ]
  },
  {
   "cell_type": "markdown",
   "metadata": {
    "is_question": true,
    "problem": "Exercise 2"
   },
   "source": [
    "### Exercise\n",
    "\n",
    "Write a `duration` method that returns the duration of the `Event` in minutes."
   ]
  },
  {
   "cell_type": "code",
   "execution_count": 45,
   "metadata": {
    "collapsed": false,
    "solution": "Exercise 2"
   },
   "outputs": [
    {
     "name": "stdout",
     "output_type": "stream",
     "text": [
      "2:20\n"
     ]
    }
   ],
   "source": [
    "class Event:\n",
    "    def __init__ (self, Name = None, startHour = 0, startMin = 0, endHour = 1, endMin = 0):\n",
    "        self.name = Name\n",
    "        self.smin = startMin\n",
    "        self.shour = startHour\n",
    "        self.ehour = endHour\n",
    "        self.emin = endMin\n",
    "        self.durm = endMin - startMin\n",
    "        self.durh = endHour - startHour\n",
    "    def __str__ (self):\n",
    "        return  '%s : %d:%.2d - %d:%.2d' %(self.name, self.shour, self.smin, self.ehour, self.emin)\n",
    "    def duration(self):\n",
    "        durationMins = self.durh*60 + self.durm\n",
    "        m = durationMins % 60\n",
    "        h = (durationMins - m)/60\n",
    "        return '%d:%.2d' %(h, m)\n",
    "event = Event('Movie Night', 7, 0, 9, 20)\n",
    "print(event.duration())"
   ]
  },
  {
   "cell_type": "markdown",
   "metadata": {
    "is_question": true,
    "problem": "Exercise 3"
   },
   "source": [
    "### Exercise\n",
    "\n",
    "Write an `Agenda` class that contains several `Event`s for the day.\n",
    "\n",
    "**Quick check: ** How should you store `Event`s within your `Agenda` class?"
   ]
  },
  {
   "cell_type": "markdown",
   "metadata": {},
   "source": [
    "In a dictionary of events"
   ]
  },
  {
   "cell_type": "markdown",
   "metadata": {},
   "source": [
    " "
   ]
  },
  {
   "cell_type": "markdown",
   "metadata": {},
   "source": [
    "Your `Agenda` class should include a `print_agenda` method that prints out your schedule for the day, in order.\n",
    "\n",
    "**Optional:** Include a `is_feasible` method that returns `True` if your schedule has no time conflicts. You may want to write additional helper methods for the `Event` class to make this easier."
   ]
  },
  {
   "cell_type": "code",
   "execution_count": 30,
   "metadata": {
    "collapsed": false,
    "solution": "Exercise 3"
   },
   "outputs": [
    {
     "name": "stdout",
     "output_type": "stream",
     "text": [
      "['Soccer Game : 2:00 - 3:20', 'Movie Night : 7:00 - 9:20', 'Software Design : 12:00 - 14:20', 'QEA : 15:00 - 16:20', 'Fire Arts : 17:00 - 19:20']\n"
     ]
    }
   ],
   "source": [
    "class Event:\n",
    "    def __init__ (self, Name = None, startHour = 0, startMin = 0, endHour = 1, endMin = 0):\n",
    "        self.name = Name\n",
    "        self.smin = startMin\n",
    "        self.shour = startHour\n",
    "        self.ehour = endHour\n",
    "        self.emin = endMin\n",
    "        self.durm = endMin - startMin\n",
    "        self.durh = endHour - startHour\n",
    "    def string_events (self):\n",
    "        return'%s : %d:%.2d - %d:%.2d' %(self.name, self.shour, self.smin, self.ehour, self.emin)\n",
    "    def duration(self):\n",
    "        durationMins = self.durh*60 + self.durm\n",
    "        m = durationMins % 60\n",
    "        h = (durationMins - m)/60\n",
    "        return '%d:%.2d' %(h, m)\n",
    "class Agenda:\n",
    "    def __init__(self, e0, e1, e2, e3, e4):\n",
    "        self.e0 = e0\n",
    "        self.e1 = e1\n",
    "        self.e2 = e2\n",
    "        self.e3 = e3\n",
    "        self.e4 = e4\n",
    "    def print_agenda(self):\n",
    "        te0 = self.e0.shour*60 + self.e0.smin\n",
    "        te1 = self.e1.shour*60 + self.e1.smin\n",
    "        te2 = self.e2.shour*60 + self.e2.smin\n",
    "        te3 = self.e3.shour*60 + self.e3.smin\n",
    "        te4 = self.e4.shour*60 + self.e4.smin\n",
    "        ev = {e0.string_events():te0, e1.string_events():te1, e2.string_events():te2, e3.string_events():te3, e4.string_events():te4}\n",
    "        sortedEvents =  sorted(ev, key=ev.__getitem__)\n",
    "        return sortedEvents\n",
    "e0 = Event('Movie Night', 7, 0, 9, 20)\n",
    "e1 = Event('Soccer Game', 2, 0, 3, 20)\n",
    "e2 = Event('Software Design', 12, 0, 14, 20)\n",
    "e3 = Event('QEA', 15, 0, 16, 20)\n",
    "e4 = Event('Fire Arts', 17, 0, 19, 20)\n",
    "agenda = Agenda(e0,e1,e2,e3,e4)\n",
    "print(agenda.print_agenda())"
   ]
  },
  {
   "cell_type": "markdown",
   "metadata": {
    "is_question": true,
    "problem": "Exercise 4"
   },
   "source": [
    "### Going Beyond (optional)\n",
    "\n",
    "Some ideas for taking your application further:\n",
    " - Add people and/or places to the mix to create a scheduling assistant\n",
    " - Extend support for day-of-week or full date. A word of warning: dealing with dates and times in real applications is difficult due to the huge number of special cases (Perfect example: this reading journal is due on Leap Day). Consider using something like the Python [datetime](https://docs.python.org/3/library/datetime.html) module.\n",
    " - Use pickle or some other persistence strategy to save and load your `Agenda`."
   ]
  },
  {
   "cell_type": "code",
   "execution_count": null,
   "metadata": {
    "collapsed": true,
    "solution": "Exercise 4"
   },
   "outputs": [],
   "source": []
  },
  {
   "cell_type": "markdown",
   "metadata": {
    "poll_response": true,
    "solution": "Time spent"
   },
   "source": [
    " "
   ]
  },
  {
   "cell_type": "markdown",
   "metadata": {
    "is_question": true,
    "problem": "Feedback"
   },
   "source": [
    "## Reading Journal feedback\n",
    "\n",
    "[Please complete this short survey](https://docs.google.com/forms/d/e/1FAIpQLScQekhUrf6YYjpfQiAAbavLIA-IJklv_PX1BWbGgxj7JPolmw/viewform?c=0&w=1)\n",
    "\n",
    "If you have any comments on this Reading Journal, feel free to leave them in the survey linked above. This could include suggestions to improve the exercises, topics you'd like to see covered in class next time, or other feedback.\n",
    "\n",
    "If you have Python questions or run into problems while completing the reading, you should post them to Piazza instead so you can get a quick response before your journal is submitted."
   ]
  },
  {
   "cell_type": "markdown",
   "metadata": {
    "feedback_response": true,
    "solution": "Feedback"
   },
   "source": [
    " "
   ]
  }
 ],
 "metadata": {
  "kernelspec": {
   "display_name": "Python 3",
   "language": "python",
   "name": "python3"
  },
  "language_info": {
   "codemirror_mode": {
    "name": "ipython",
    "version": 3
   },
   "file_extension": ".py",
   "mimetype": "text/x-python",
   "name": "python",
   "nbconvert_exporter": "python",
   "pygments_lexer": "ipython3",
   "version": "3.5.2"
  }
 },
 "nbformat": 4,
 "nbformat_minor": 0
}
